{
 "cells": [
  {
   "cell_type": "code",
   "execution_count": 1,
   "metadata": {
    "execution": {
     "iopub.execute_input": "2025-06-09T16:09:50.831113Z",
     "iopub.status.busy": "2025-06-09T16:09:50.830825Z",
     "iopub.status.idle": "2025-06-09T16:09:56.915898Z",
     "shell.execute_reply": "2025-06-09T16:09:56.914729Z",
     "shell.execute_reply.started": "2025-06-09T16:09:50.831092Z"
    },
    "trusted": true
   },
   "outputs": [
    {
     "name": "stdout",
     "output_type": "stream",
     "text": [
      "    country                                        description  \\\n",
      "0     Italy  Aromas include tropical fruit, broom, brimston...   \n",
      "1  Portugal  This is ripe and fruity, a wine that is smooth...   \n",
      "2        US  Tart and snappy, the flavors of lime flesh and...   \n",
      "3        US  Pineapple rind, lemon pith and orange blossom ...   \n",
      "4        US  Much like the regular bottling from 2012, this...   \n",
      "\n",
      "                          designation  points  price           province  \\\n",
      "0                        Vulkà Bianco      87    NaN  Sicily & Sardinia   \n",
      "1                            Avidagos      87   15.0              Douro   \n",
      "2                                 NaN      87   14.0             Oregon   \n",
      "3                Reserve Late Harvest      87   13.0           Michigan   \n",
      "4  Vintner's Reserve Wild Child Block      87   65.0             Oregon   \n",
      "\n",
      "              region_1           region_2         taster_name  \\\n",
      "0                 Etna                NaN       Kerin O’Keefe   \n",
      "1                  NaN                NaN          Roger Voss   \n",
      "2    Willamette Valley  Willamette Valley        Paul Gregutt   \n",
      "3  Lake Michigan Shore                NaN  Alexander Peartree   \n",
      "4    Willamette Valley  Willamette Valley        Paul Gregutt   \n",
      "\n",
      "  taster_twitter_handle                                              title  \\\n",
      "0          @kerinokeefe                  Nicosia 2013 Vulkà Bianco  (Etna)   \n",
      "1            @vossroger      Quinta dos Avidagos 2011 Avidagos Red (Douro)   \n",
      "2           @paulgwine       Rainstorm 2013 Pinot Gris (Willamette Valley)   \n",
      "3                   NaN  St. Julian 2013 Reserve Late Harvest Riesling ...   \n",
      "4           @paulgwine   Sweet Cheeks 2012 Vintner's Reserve Wild Child...   \n",
      "\n",
      "          variety               winery  \n",
      "0     White Blend              Nicosia  \n",
      "1  Portuguese Red  Quinta dos Avidagos  \n",
      "2      Pinot Gris            Rainstorm  \n",
      "3        Riesling           St. Julian  \n",
      "4      Pinot Noir         Sweet Cheeks  \n"
     ]
    }
   ],
   "source": [
    "import pandas as pd\n",
    "reviews = pd.read_csv(\"./winemag-data.csv\", index_col=0)\n",
    "print(reviews.head())"
   ]
  },
  {
   "cell_type": "markdown",
   "metadata": {},
   "source": [
    "# Exercises"
   ]
  },
  {
   "cell_type": "markdown",
   "metadata": {},
   "source": [
    "## 1.\n",
    "\n",
    "What is the median of the `points` column in the `reviews` DataFrame?"
   ]
  },
  {
   "cell_type": "code",
   "execution_count": 2,
   "metadata": {
    "execution": {
     "iopub.execute_input": "2025-06-09T11:58:12.799604Z",
     "iopub.status.busy": "2025-06-09T11:58:12.798526Z",
     "iopub.status.idle": "2025-06-09T11:58:12.808383Z",
     "shell.execute_reply": "2025-06-09T11:58:12.807448Z",
     "shell.execute_reply.started": "2025-06-09T11:58:12.799569Z"
    },
    "trusted": true
   },
   "outputs": [
    {
     "name": "stdout",
     "output_type": "stream",
     "text": [
      "88.0\n"
     ]
    }
   ],
   "source": [
    "median_points = reviews.points.median()\n",
    "print(median_points)"
   ]
  },
  {
   "cell_type": "markdown",
   "metadata": {},
   "source": [
    "## 2. \n",
    "What countries are represented in the dataset? (No duplicates)"
   ]
  },
  {
   "cell_type": "code",
   "execution_count": 3,
   "metadata": {
    "execution": {
     "iopub.execute_input": "2025-06-09T11:58:32.759440Z",
     "iopub.status.busy": "2025-06-09T11:58:32.759121Z",
     "iopub.status.idle": "2025-06-09T11:58:32.772573Z",
     "shell.execute_reply": "2025-06-09T11:58:32.771638Z",
     "shell.execute_reply.started": "2025-06-09T11:58:32.759415Z"
    },
    "trusted": true
   },
   "outputs": [
    {
     "name": "stdout",
     "output_type": "stream",
     "text": [
      "['Italy' 'Portugal' 'US' 'Spain' 'France' 'Germany' 'Argentina' 'Chile'\n",
      " 'Australia' 'Austria' 'South Africa' 'New Zealand' 'Israel' 'Hungary'\n",
      " 'Greece' 'Romania' 'Mexico' 'Canada' nan 'Turkey']\n"
     ]
    }
   ],
   "source": [
    "countries = reviews.country.unique()\n",
    "print(countries)"
   ]
  },
  {
   "cell_type": "markdown",
   "metadata": {},
   "source": [
    "## 3.\n",
    "How often does each country appear in the dataset? Create a Series `reviews_per_country` mapping countries to the count of reviews of wines from that country."
   ]
  },
  {
   "cell_type": "code",
   "execution_count": 4,
   "metadata": {
    "execution": {
     "iopub.execute_input": "2025-06-09T12:00:07.650424Z",
     "iopub.status.busy": "2025-06-09T12:00:07.650131Z",
     "iopub.status.idle": "2025-06-09T12:00:07.669850Z",
     "shell.execute_reply": "2025-06-09T12:00:07.668924Z",
     "shell.execute_reply.started": "2025-06-09T12:00:07.650404Z"
    },
    "trusted": true
   },
   "outputs": [
    {
     "name": "stdout",
     "output_type": "stream",
     "text": [
      "country\n",
      "US              774\n",
      "France          347\n",
      "Italy           339\n",
      "Spain           101\n",
      "Portugal         84\n",
      "Chile            77\n",
      "Argentina        70\n",
      "Australia        54\n",
      "Austria          46\n",
      "Germany          34\n",
      "South Africa     27\n",
      "New Zealand      19\n",
      "Israel            9\n",
      "Greece            6\n",
      "Hungary           4\n",
      "Romania           3\n",
      "Mexico            2\n",
      "Canada            1\n",
      "Turkey            1\n",
      "Name: count, dtype: int64\n"
     ]
    }
   ],
   "source": [
    "reviews_per_country = reviews.country.value_counts()\n",
    "print(reviews_per_country)"
   ]
  },
  {
   "cell_type": "markdown",
   "metadata": {},
   "source": [
    "## 4.\n",
    "Create variable `centered_price` containing a version of the `price` column with the mean price subtracted.\n",
    "\n",
    "'centering' transformation is a common preprocessing step before applying various machine learning algorithms."
   ]
  },
  {
   "cell_type": "code",
   "execution_count": 5,
   "metadata": {
    "execution": {
     "iopub.execute_input": "2025-06-09T12:01:37.761219Z",
     "iopub.status.busy": "2025-06-09T12:01:37.760624Z",
     "iopub.status.idle": "2025-06-09T12:01:37.770895Z",
     "shell.execute_reply": "2025-06-09T12:01:37.769967Z",
     "shell.execute_reply.started": "2025-06-09T12:01:37.761191Z"
    },
    "trusted": true
   },
   "outputs": [
    {
     "name": "stdout",
     "output_type": "stream",
     "text": [
      "0             NaN\n",
      "1      -24.290648\n",
      "2      -25.290648\n",
      "3      -26.290648\n",
      "4       25.709352\n",
      "          ...    \n",
      "1994   -21.290648\n",
      "1995   -19.290648\n",
      "1996   -14.290648\n",
      "1997   -28.290648\n",
      "1998   -24.290648\n",
      "Name: price, Length: 1999, dtype: float64\n"
     ]
    }
   ],
   "source": [
    "centered_price = reviews.price-reviews.price.mean()\n",
    "print(centered_price)"
   ]
  },
  {
   "cell_type": "markdown",
   "metadata": {},
   "source": [
    "## 5.\n",
    "For an economical wine buyer, which wine is the \"best bargain\"? Create a variable `bargain_wine` with the title of the wine with the highest points-to-price ratio in the dataset."
   ]
  },
  {
   "cell_type": "code",
   "execution_count": 6,
   "metadata": {
    "execution": {
     "iopub.execute_input": "2025-06-09T12:13:54.580389Z",
     "iopub.status.busy": "2025-06-09T12:13:54.580024Z",
     "iopub.status.idle": "2025-06-09T12:13:54.591684Z",
     "shell.execute_reply": "2025-06-09T12:13:54.590921Z",
     "shell.execute_reply.started": "2025-06-09T12:13:54.580359Z"
    },
    "trusted": true
   },
   "outputs": [
    {
     "name": "stdout",
     "output_type": "stream",
     "text": [
      "Felix Solis 2013 Flirty Bird Syrah (Vino de la Tierra de Castilla)\n"
     ]
    }
   ],
   "source": [
    "bargain_wine = reviews.title.iloc[(reviews.points/reviews.price).idxmax()]\n",
    "print(bargain_wine)"
   ]
  },
  {
   "cell_type": "markdown",
   "metadata": {},
   "source": [
    "## 6.\n",
    "There are only so many words you can use when describing a bottle of wine. Is a wine more likely to be \"tropical\" or \"fruity\"? Create a Series `descriptor_counts` counting how many times each of these two words appears in the `description` column in the dataset. (For simplicity, let's ignore the capitalized versions of these words.)"
   ]
  },
  {
   "cell_type": "code",
   "execution_count": 7,
   "metadata": {
    "execution": {
     "iopub.execute_input": "2025-06-09T16:11:51.797165Z",
     "iopub.status.busy": "2025-06-09T16:11:51.796488Z",
     "iopub.status.idle": "2025-06-09T16:11:51.923549Z",
     "shell.execute_reply": "2025-06-09T16:11:51.922903Z",
     "shell.execute_reply.started": "2025-06-09T16:11:51.797138Z"
    },
    "trusted": true
   },
   "outputs": [
    {
     "name": "stdout",
     "output_type": "stream",
     "text": [
      "tropical     44\n",
      "fruity      148\n",
      "dtype: int64\n"
     ]
    }
   ],
   "source": [
    "n_trop=reviews.description.map(lambda desc:\"tropical\" in desc).sum()\n",
    "n_fruity=reviews.description.map(lambda desc:\"fruity\" in desc).sum()\n",
    "\n",
    "descriptor_counts = pd.Series([n_trop, n_fruity], index=['tropical', 'fruity'])\n",
    "print(descriptor_counts)"
   ]
  },
  {
   "cell_type": "markdown",
   "metadata": {},
   "source": [
    "## 7.\n",
    "We'd like to host these wine reviews on our website, but a rating system ranging from 80 to 100 points is too hard to understand - we'd like to translate them into simple star ratings. A score of 95 or higher counts as 3 stars, a score of at least 85 but less than 95 is 2 stars. Any other score is 1 star.\n",
    "\n",
    "Also, the Canadian Vintners Association bought a lot of ads on the site, so any wines from Canada should automatically get 3 stars, regardless of points.\n",
    "\n",
    "Create a series `star_ratings` with the number of stars corresponding to each review in the dataset."
   ]
  },
  {
   "cell_type": "code",
   "execution_count": 8,
   "metadata": {
    "execution": {
     "iopub.execute_input": "2025-06-09T16:21:39.490983Z",
     "iopub.status.busy": "2025-06-09T16:21:39.490304Z",
     "iopub.status.idle": "2025-06-09T16:21:41.653050Z",
     "shell.execute_reply": "2025-06-09T16:21:41.652126Z",
     "shell.execute_reply.started": "2025-06-09T16:21:39.490955Z"
    },
    "trusted": true
   },
   "outputs": [
    {
     "name": "stdout",
     "output_type": "stream",
     "text": [
      "0       2\n",
      "1       2\n",
      "2       2\n",
      "3       2\n",
      "4       2\n",
      "       ..\n",
      "1994    1\n",
      "1995    1\n",
      "1996    1\n",
      "1997    1\n",
      "1998    1\n",
      "Length: 1999, dtype: int64\n"
     ]
    }
   ],
   "source": [
    "def star(row):\n",
    "    if row.country==\"Canada\":\n",
    "        return 3\n",
    "        \n",
    "    if row.points>=95:\n",
    "        return 3\n",
    "    elif row.points>=85:\n",
    "        return 2\n",
    "    else:\n",
    "        return 1\n",
    "    \n",
    "star_ratings = reviews.apply(star,axis=\"columns\")\n",
    "print(star_ratings)"
   ]
  }
 ],
 "metadata": {
  "kaggle": {
   "accelerator": "none",
   "dataSources": [
    {
     "datasetId": 655,
     "sourceId": 1252,
     "sourceType": "datasetVersion"
    },
    {
     "datasetId": 2321,
     "sourceId": 3919,
     "sourceType": "datasetVersion"
    },
    {
     "datasetId": 2894,
     "sourceId": 4877,
     "sourceType": "datasetVersion"
    },
    {
     "datasetId": 3491,
     "sourceId": 5624,
     "sourceType": "datasetVersion"
    },
    {
     "datasetId": 1442,
     "sourceId": 8172,
     "sourceType": "datasetVersion"
    },
    {
     "datasetId": 9366,
     "sourceId": 13206,
     "sourceType": "datasetVersion"
    },
    {
     "datasetId": 179555,
     "sourceId": 403916,
     "sourceType": "datasetVersion"
    },
    {
     "datasetId": 4549,
     "sourceId": 466349,
     "sourceType": "datasetVersion"
    },
    {
     "datasetId": 2478,
     "sourceId": 1151655,
     "sourceType": "datasetVersion"
    },
    {
     "datasetId": 10128,
     "sourceId": 5438389,
     "sourceType": "datasetVersion"
    }
   ],
   "isGpuEnabled": false,
   "isInternetEnabled": false,
   "language": "python",
   "sourceType": "notebook"
  },
  "kernelspec": {
   "display_name": "venv",
   "language": "python",
   "name": "python3"
  },
  "language_info": {
   "codemirror_mode": {
    "name": "ipython",
    "version": 3
   },
   "file_extension": ".py",
   "mimetype": "text/x-python",
   "name": "python",
   "nbconvert_exporter": "python",
   "pygments_lexer": "ipython3",
   "version": "3.13.3"
  }
 },
 "nbformat": 4,
 "nbformat_minor": 4
}
