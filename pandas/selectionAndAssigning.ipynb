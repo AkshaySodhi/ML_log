{
 "cells": [
  {
   "cell_type": "code",
   "execution_count": 1,
   "metadata": {
    "execution": {
     "iopub.execute_input": "2025-06-08T18:54:21.902915Z",
     "iopub.status.busy": "2025-06-08T18:54:21.902628Z",
     "iopub.status.idle": "2025-06-08T18:54:25.660604Z",
     "shell.execute_reply": "2025-06-08T18:54:25.659585Z",
     "shell.execute_reply.started": "2025-06-08T18:54:21.902894Z"
    },
    "trusted": true
   },
   "outputs": [
    {
     "name": "stdout",
     "output_type": "stream",
     "text": [
      "    country                                        description  \\\n",
      "0     Italy  Aromas include tropical fruit, broom, brimston...   \n",
      "1  Portugal  This is ripe and fruity, a wine that is smooth...   \n",
      "2        US  Tart and snappy, the flavors of lime flesh and...   \n",
      "3        US  Pineapple rind, lemon pith and orange blossom ...   \n",
      "4        US  Much like the regular bottling from 2012, this...   \n",
      "\n",
      "                          designation  points  price           province  \\\n",
      "0                        Vulkà Bianco      87    NaN  Sicily & Sardinia   \n",
      "1                            Avidagos      87   15.0              Douro   \n",
      "2                                 NaN      87   14.0             Oregon   \n",
      "3                Reserve Late Harvest      87   13.0           Michigan   \n",
      "4  Vintner's Reserve Wild Child Block      87   65.0             Oregon   \n",
      "\n",
      "              region_1           region_2         taster_name  \\\n",
      "0                 Etna                NaN       Kerin O’Keefe   \n",
      "1                  NaN                NaN          Roger Voss   \n",
      "2    Willamette Valley  Willamette Valley        Paul Gregutt   \n",
      "3  Lake Michigan Shore                NaN  Alexander Peartree   \n",
      "4    Willamette Valley  Willamette Valley        Paul Gregutt   \n",
      "\n",
      "  taster_twitter_handle                                              title  \\\n",
      "0          @kerinokeefe                  Nicosia 2013 Vulkà Bianco  (Etna)   \n",
      "1            @vossroger      Quinta dos Avidagos 2011 Avidagos Red (Douro)   \n",
      "2           @paulgwine       Rainstorm 2013 Pinot Gris (Willamette Valley)   \n",
      "3                   NaN  St. Julian 2013 Reserve Late Harvest Riesling ...   \n",
      "4           @paulgwine   Sweet Cheeks 2012 Vintner's Reserve Wild Child...   \n",
      "\n",
      "          variety               winery  \n",
      "0     White Blend              Nicosia  \n",
      "1  Portuguese Red  Quinta dos Avidagos  \n",
      "2      Pinot Gris            Rainstorm  \n",
      "3        Riesling           St. Julian  \n",
      "4      Pinot Noir         Sweet Cheeks  \n"
     ]
    }
   ],
   "source": [
    "import pandas as pd\n",
    "reviews = pd.read_csv(\"./winemag-data.csv\", index_col=0)\n",
    "print(reviews.head())"
   ]
  },
  {
   "cell_type": "markdown",
   "metadata": {},
   "source": [
    "# Exercises"
   ]
  },
  {
   "cell_type": "markdown",
   "metadata": {},
   "source": [
    "## 1.\n",
    "\n",
    "Select the `description` column from `reviews` and assign the result to the variable `desc`."
   ]
  },
  {
   "cell_type": "code",
   "execution_count": 2,
   "metadata": {
    "execution": {
     "iopub.execute_input": "2025-06-08T18:55:13.727341Z",
     "iopub.status.busy": "2025-06-08T18:55:13.727034Z",
     "iopub.status.idle": "2025-06-08T18:55:13.738648Z",
     "shell.execute_reply": "2025-06-08T18:55:13.737504Z",
     "shell.execute_reply.started": "2025-06-08T18:55:13.727317Z"
    },
    "trusted": true
   },
   "outputs": [
    {
     "name": "stdout",
     "output_type": "stream",
     "text": [
      "<class 'pandas.core.series.Series'>\n"
     ]
    }
   ],
   "source": [
    "desc = reviews.description\n",
    "print(type(desc))"
   ]
  },
  {
   "cell_type": "markdown",
   "metadata": {},
   "source": [
    "Follow-up question: what type of object is `desc`? If you're not sure, you can check by calling Python's `type` function: `type(desc)`."
   ]
  },
  {
   "cell_type": "markdown",
   "metadata": {},
   "source": [
    "## 2.\n",
    "\n",
    "Select the first value from the description column of `reviews`, assigning it to variable `first_description`."
   ]
  },
  {
   "cell_type": "code",
   "execution_count": 3,
   "metadata": {
    "execution": {
     "iopub.execute_input": "2025-06-08T18:56:13.365780Z",
     "iopub.status.busy": "2025-06-08T18:56:13.365382Z",
     "iopub.status.idle": "2025-06-08T18:56:13.377131Z",
     "shell.execute_reply": "2025-06-08T18:56:13.375837Z",
     "shell.execute_reply.started": "2025-06-08T18:56:13.365754Z"
    },
    "trusted": true
   },
   "outputs": [
    {
     "name": "stdout",
     "output_type": "stream",
     "text": [
      "Aromas include tropical fruit, broom, brimstone and dried herb. The palate isn't overly expressive, offering unripened apple, citrus and dried sage alongside brisk acidity.\n"
     ]
    }
   ],
   "source": [
    "first_description = desc.iloc[0]\n",
    "print(first_description)"
   ]
  },
  {
   "cell_type": "markdown",
   "metadata": {},
   "source": [
    "## 3. \n",
    "\n",
    "Select the first row of data (the first record) from `reviews`, assigning it to the variable `first_row`."
   ]
  },
  {
   "cell_type": "code",
   "execution_count": 4,
   "metadata": {
    "execution": {
     "iopub.execute_input": "2025-06-08T18:57:59.923487Z",
     "iopub.status.busy": "2025-06-08T18:57:59.923102Z",
     "iopub.status.idle": "2025-06-08T18:57:59.936938Z",
     "shell.execute_reply": "2025-06-08T18:57:59.935955Z",
     "shell.execute_reply.started": "2025-06-08T18:57:59.923461Z"
    },
    "trusted": true
   },
   "outputs": [
    {
     "name": "stdout",
     "output_type": "stream",
     "text": [
      "country                                                              Italy\n",
      "description              Aromas include tropical fruit, broom, brimston...\n",
      "designation                                                   Vulkà Bianco\n",
      "points                                                                  87\n",
      "price                                                                  NaN\n",
      "province                                                 Sicily & Sardinia\n",
      "region_1                                                              Etna\n",
      "region_2                                                               NaN\n",
      "taster_name                                                  Kerin O’Keefe\n",
      "taster_twitter_handle                                         @kerinokeefe\n",
      "title                                    Nicosia 2013 Vulkà Bianco  (Etna)\n",
      "variety                                                        White Blend\n",
      "winery                                                             Nicosia\n",
      "Name: 0, dtype: object\n"
     ]
    }
   ],
   "source": [
    "first_row = reviews.iloc[0]\n",
    "print(first_row)"
   ]
  },
  {
   "cell_type": "markdown",
   "metadata": {},
   "source": [
    "## 4.\n",
    "\n",
    "Select the first 10 values from the `description` column in `reviews`, assigning the result to variable `first_descriptions`."
   ]
  },
  {
   "cell_type": "code",
   "execution_count": 5,
   "metadata": {
    "execution": {
     "iopub.execute_input": "2025-06-08T18:58:43.890042Z",
     "iopub.status.busy": "2025-06-08T18:58:43.889731Z",
     "iopub.status.idle": "2025-06-08T18:58:43.902211Z",
     "shell.execute_reply": "2025-06-08T18:58:43.901210Z",
     "shell.execute_reply.started": "2025-06-08T18:58:43.890020Z"
    },
    "trusted": true
   },
   "outputs": [
    {
     "name": "stdout",
     "output_type": "stream",
     "text": [
      "0    Aromas include tropical fruit, broom, brimston...\n",
      "1    This is ripe and fruity, a wine that is smooth...\n",
      "2    Tart and snappy, the flavors of lime flesh and...\n",
      "3    Pineapple rind, lemon pith and orange blossom ...\n",
      "4    Much like the regular bottling from 2012, this...\n",
      "5    Blackberry and raspberry aromas show a typical...\n",
      "6    Here's a bright, informal red that opens with ...\n",
      "7    This dry and restrained wine offers spice in p...\n",
      "8    Savory dried thyme notes accent sunnier flavor...\n",
      "9    This has great depth of flavor with its fresh ...\n",
      "Name: description, dtype: object\n"
     ]
    }
   ],
   "source": [
    "first_descriptions = reviews.description.iloc[:10]\n",
    "print(first_descriptions)"
   ]
  },
  {
   "cell_type": "markdown",
   "metadata": {},
   "source": [
    "## 5.\n",
    "\n",
    "Select the records with index labels `1`, `2`, `3`, `5`, and `8`, assigning the result to the variable `sample_reviews`.\n",
    "\n",
    "In other words, generate the following DataFrame:\n",
    "\n",
    "![](https://storage.googleapis.com/kaggle-media/learn/images/sHZvI1O.png)"
   ]
  },
  {
   "cell_type": "code",
   "execution_count": 6,
   "metadata": {
    "execution": {
     "iopub.execute_input": "2025-06-08T19:00:59.199409Z",
     "iopub.status.busy": "2025-06-08T19:00:59.198598Z",
     "iopub.status.idle": "2025-06-08T19:00:59.219069Z",
     "shell.execute_reply": "2025-06-08T19:00:59.218351Z",
     "shell.execute_reply.started": "2025-06-08T19:00:59.199382Z"
    },
    "trusted": true
   },
   "outputs": [
    {
     "name": "stdout",
     "output_type": "stream",
     "text": [
      "    country                                        description  \\\n",
      "1  Portugal  This is ripe and fruity, a wine that is smooth...   \n",
      "2        US  Tart and snappy, the flavors of lime flesh and...   \n",
      "3        US  Pineapple rind, lemon pith and orange blossom ...   \n",
      "5     Spain  Blackberry and raspberry aromas show a typical...   \n",
      "8   Germany  Savory dried thyme notes accent sunnier flavor...   \n",
      "\n",
      "            designation  points  price        province             region_1  \\\n",
      "1              Avidagos      87   15.0           Douro                  NaN   \n",
      "2                   NaN      87   14.0          Oregon    Willamette Valley   \n",
      "3  Reserve Late Harvest      87   13.0        Michigan  Lake Michigan Shore   \n",
      "5          Ars In Vitro      87   15.0  Northern Spain              Navarra   \n",
      "8                 Shine      87   12.0     Rheinhessen                  NaN   \n",
      "\n",
      "            region_2         taster_name taster_twitter_handle  \\\n",
      "1                NaN          Roger Voss            @vossroger   \n",
      "2  Willamette Valley        Paul Gregutt           @paulgwine    \n",
      "3                NaN  Alexander Peartree                   NaN   \n",
      "5                NaN   Michael Schachner           @wineschach   \n",
      "8                NaN  Anna Lee C. Iijima                   NaN   \n",
      "\n",
      "                                               title             variety  \\\n",
      "1      Quinta dos Avidagos 2011 Avidagos Red (Douro)      Portuguese Red   \n",
      "2      Rainstorm 2013 Pinot Gris (Willamette Valley)          Pinot Gris   \n",
      "3  St. Julian 2013 Reserve Late Harvest Riesling ...            Riesling   \n",
      "5  Tandem 2011 Ars In Vitro Tempranillo-Merlot (N...  Tempranillo-Merlot   \n",
      "8  Heinz Eifel 2013 Shine Gewürztraminer (Rheinhe...      Gewürztraminer   \n",
      "\n",
      "                winery  \n",
      "1  Quinta dos Avidagos  \n",
      "2            Rainstorm  \n",
      "3           St. Julian  \n",
      "5               Tandem  \n",
      "8          Heinz Eifel  \n"
     ]
    }
   ],
   "source": [
    "sample_reviews = reviews.loc[[1,2,3,5,8]]\n",
    "print(sample_reviews)"
   ]
  },
  {
   "cell_type": "markdown",
   "metadata": {},
   "source": [
    "## 6.\n",
    "\n",
    "Create a variable `df` containing the `country`, `province`, `region_1`, and `region_2` columns of the records with the index labels `0`, `1`, `10`, and `100`. In other words, generate the following DataFrame:\n",
    "\n",
    "![](https://storage.googleapis.com/kaggle-media/learn/images/FUCGiKP.png)"
   ]
  },
  {
   "cell_type": "code",
   "execution_count": 7,
   "metadata": {
    "execution": {
     "iopub.execute_input": "2025-06-08T19:07:41.091925Z",
     "iopub.status.busy": "2025-06-08T19:07:41.091599Z",
     "iopub.status.idle": "2025-06-08T19:07:41.115975Z",
     "shell.execute_reply": "2025-06-08T19:07:41.114723Z",
     "shell.execute_reply.started": "2025-06-08T19:07:41.091902Z"
    },
    "trusted": true
   },
   "outputs": [
    {
     "name": "stdout",
     "output_type": "stream",
     "text": [
      "      country           province      region_1      region_2\n",
      "0       Italy  Sicily & Sardinia          Etna           NaN\n",
      "1    Portugal              Douro           NaN           NaN\n",
      "10         US         California   Napa Valley          Napa\n",
      "100        US           New York  Finger Lakes  Finger Lakes\n"
     ]
    }
   ],
   "source": [
    "df= reviews.loc[[0,1,10,100],[\"country\",\"province\",\"region_1\",\"region_2\"]]\n",
    "print(df)"
   ]
  },
  {
   "cell_type": "markdown",
   "metadata": {},
   "source": [
    "## 7.\n",
    "\n",
    "Create a variable `df` containing the `country` and `variety` columns of the first 100 records. \n",
    "\n",
    "> `iloc` uses the Python stdlib indexing scheme, where the first element of the range is included and the last one excluded. \n",
    "`loc`, meanwhile, indexes inclusively. \n",
    "\n",
    "> This is particularly confusing when the DataFrame index is a simple numerical list, e.g. `0,...,1000`. In this case `df.iloc[0:1000]` will return 1000 entries, while `df.loc[0:1000]` return 1001 of them! To get 1000 elements using `loc`, you will need to go one lower and ask for `df.iloc[0:999]`. "
   ]
  },
  {
   "cell_type": "code",
   "execution_count": 8,
   "metadata": {
    "execution": {
     "iopub.execute_input": "2025-06-08T19:23:29.162076Z",
     "iopub.status.busy": "2025-06-08T19:23:29.161765Z",
     "iopub.status.idle": "2025-06-08T19:23:29.179551Z",
     "shell.execute_reply": "2025-06-08T19:23:29.178557Z",
     "shell.execute_reply.started": "2025-06-08T19:23:29.162052Z"
    },
    "trusted": true
   },
   "outputs": [
    {
     "name": "stdout",
     "output_type": "stream",
     "text": [
      "     country                   variety\n",
      "0      Italy               White Blend\n",
      "1   Portugal            Portuguese Red\n",
      "2         US                Pinot Gris\n",
      "3         US                  Riesling\n",
      "4         US                Pinot Noir\n",
      "..       ...                       ...\n",
      "95    France                     Gamay\n",
      "96    France                     Gamay\n",
      "97        US                  Riesling\n",
      "98     Italy                Sangiovese\n",
      "99        US  Bordeaux-style Red Blend\n",
      "\n",
      "[100 rows x 2 columns]\n"
     ]
    }
   ],
   "source": [
    "df = reviews.loc[0:99,[\"country\",\"variety\"]]\n",
    "print(df)"
   ]
  },
  {
   "cell_type": "markdown",
   "metadata": {},
   "source": [
    "## 8.\n",
    "\n",
    "Create a DataFrame `italian_wines` containing reviews of wines made in `Italy`."
   ]
  },
  {
   "cell_type": "code",
   "execution_count": 9,
   "metadata": {
    "execution": {
     "iopub.execute_input": "2025-06-08T19:23:57.063783Z",
     "iopub.status.busy": "2025-06-08T19:23:57.063484Z",
     "iopub.status.idle": "2025-06-08T19:23:57.095934Z",
     "shell.execute_reply": "2025-06-08T19:23:57.094979Z",
     "shell.execute_reply.started": "2025-06-08T19:23:57.063763Z"
    },
    "trusted": true
   },
   "outputs": [
    {
     "name": "stdout",
     "output_type": "stream",
     "text": [
      "     country                                        description   designation  \\\n",
      "0      Italy  Aromas include tropical fruit, broom, brimston...  Vulkà Bianco   \n",
      "6      Italy  Here's a bright, informal red that opens with ...       Belsito   \n",
      "13     Italy  This is dominated by oak and oak-driven aromas...         Rosso   \n",
      "22     Italy  Delicate aromas recall white flower and citrus...     Ficiligno   \n",
      "24     Italy  Aromas of prune, blackcurrant, toast and oak c...         Aynat   \n",
      "...      ...                                                ...           ...   \n",
      "1977   Italy  This offers ripe cherry and blackberry notes, ...      Elo Veni   \n",
      "1978   Italy  This gorgeous Greco di Tufo opens with bright ...           NaN   \n",
      "1981   Italy  Plumbago is a pure expression of Nero d'Avola ...      Plumbago   \n",
      "1983   Italy  This Syrah offers bright tones of leather, cur...      Schietto   \n",
      "1997   Italy  Fruity aromas that recall blueberry and pomegr...           NaN   \n",
      "\n",
      "      points  price           province         region_1 region_2  \\\n",
      "0         87    NaN  Sicily & Sardinia             Etna      NaN   \n",
      "6         87   16.0  Sicily & Sardinia         Vittoria      NaN   \n",
      "13        87    NaN  Sicily & Sardinia             Etna      NaN   \n",
      "22        87   19.0  Sicily & Sardinia          Sicilia      NaN   \n",
      "24        87   35.0  Sicily & Sardinia          Sicilia      NaN   \n",
      "...      ...    ...                ...              ...      ...   \n",
      "1977      88   15.0     Southern Italy          Salento      NaN   \n",
      "1978      88   25.0     Southern Italy    Greco di Tufo      NaN   \n",
      "1981      88    NaN  Sicily & Sardinia          Sicilia      NaN   \n",
      "1983      88   19.0  Sicily & Sardinia          Sicilia      NaN   \n",
      "1997      84   11.0  Sicily & Sardinia  Terre Siciliane      NaN   \n",
      "\n",
      "        taster_name taster_twitter_handle  \\\n",
      "0     Kerin O’Keefe          @kerinokeefe   \n",
      "6     Kerin O’Keefe          @kerinokeefe   \n",
      "13    Kerin O’Keefe          @kerinokeefe   \n",
      "22    Kerin O’Keefe          @kerinokeefe   \n",
      "24    Kerin O’Keefe          @kerinokeefe   \n",
      "...             ...                   ...   \n",
      "1977            NaN                   NaN   \n",
      "1978            NaN                   NaN   \n",
      "1981            NaN                   NaN   \n",
      "1983            NaN                   NaN   \n",
      "1997  Kerin O’Keefe          @kerinokeefe   \n",
      "\n",
      "                                                  title            variety  \\\n",
      "0                     Nicosia 2013 Vulkà Bianco  (Etna)        White Blend   \n",
      "6      Terre di Giurfo 2013 Belsito Frappato (Vittoria)           Frappato   \n",
      "13               Masseria Setteporte 2012 Rosso  (Etna)  Nerello Mascalese   \n",
      "22    Baglio di Pianetto 2007 Ficiligno White (Sicilia)        White Blend   \n",
      "24          Canicattì 2009 Aynat Nero d'Avola (Sicilia)       Nero d'Avola   \n",
      "...                                                 ...                ...   \n",
      "1977  Leone de Castris 2010 Elo Veni Negroamaro (Sal...         Negroamaro   \n",
      "1978                Mastroberardino 2011  Greco di Tufo              Greco   \n",
      "1981       Planeta 2010 Plumbago Nero d'Avola (Sicilia)       Nero d'Avola   \n",
      "1983  Principi di Spadafora 2007 Schietto Syrah (Sic...              Syrah   \n",
      "1997  Vino dei Fratelli 2013 Nero d'Avola (Terre Sic...       Nero d'Avola   \n",
      "\n",
      "                     winery  \n",
      "0                   Nicosia  \n",
      "6           Terre di Giurfo  \n",
      "13      Masseria Setteporte  \n",
      "22       Baglio di Pianetto  \n",
      "24                Canicattì  \n",
      "...                     ...  \n",
      "1977       Leone de Castris  \n",
      "1978        Mastroberardino  \n",
      "1981                Planeta  \n",
      "1983  Principi di Spadafora  \n",
      "1997      Vino dei Fratelli  \n",
      "\n",
      "[339 rows x 13 columns]\n"
     ]
    }
   ],
   "source": [
    "italian_wines = reviews[reviews.country==\"Italy\"]\n",
    "print(italian_wines)"
   ]
  },
  {
   "cell_type": "markdown",
   "metadata": {},
   "source": [
    "## 9.\n",
    "\n",
    "Create a DataFrame `top_oceania_wines` containing all reviews with at least 95 points (out of 100) for wines from Australia or New Zealand."
   ]
  },
  {
   "cell_type": "code",
   "execution_count": 10,
   "metadata": {
    "execution": {
     "iopub.execute_input": "2025-06-08T19:27:50.344138Z",
     "iopub.status.busy": "2025-06-08T19:27:50.343852Z",
     "iopub.status.idle": "2025-06-08T19:27:50.374055Z",
     "shell.execute_reply": "2025-06-08T19:27:50.373106Z",
     "shell.execute_reply.started": "2025-06-08T19:27:50.344119Z"
    },
    "trusted": true
   },
   "outputs": [
    {
     "name": "stdout",
     "output_type": "stream",
     "text": [
      "       country                                        description  \\\n",
      "345  Australia  This wine contains some material over 100 year...   \n",
      "346  Australia  This deep brown wine smells like a damp, mossy...   \n",
      "348  Australia  Deep mahogany. Dried fig and black tea on the ...   \n",
      "349  Australia  RunRig is always complex, and the 2012 doesn't...   \n",
      "356  Australia  Dusty, firm, powerful: just a few apt descript...   \n",
      "360  Australia  Bacon and tapenade elements merge easily on th...   \n",
      "365  Australia  The Taylor family selected Clare Valley for it...   \n",
      "\n",
      "                             designation  points  price         province  \\\n",
      "345                                 Rare     100  350.0         Victoria   \n",
      "346                                 Rare      98  350.0         Victoria   \n",
      "348                                Grand      97  100.0         Victoria   \n",
      "349                               RunRig      97  225.0  South Australia   \n",
      "356                    Georgia's Paddock      95   85.0         Victoria   \n",
      "360                           Descendant      95  125.0  South Australia   \n",
      "365  St. Andrews Single Vineyard Release      95   60.0  South Australia   \n",
      "\n",
      "           region_1 region_2     taster_name taster_twitter_handle  \\\n",
      "345      Rutherglen      NaN  Joe Czerwinski                @JoeCz   \n",
      "346      Rutherglen      NaN  Joe Czerwinski                @JoeCz   \n",
      "348      Rutherglen      NaN  Joe Czerwinski                @JoeCz   \n",
      "349         Barossa      NaN  Joe Czerwinski                @JoeCz   \n",
      "356       Heathcote      NaN  Joe Czerwinski                @JoeCz   \n",
      "360  Barossa Valley      NaN  Joe Czerwinski                @JoeCz   \n",
      "365    Clare Valley      NaN  Joe Czerwinski                @JoeCz   \n",
      "\n",
      "                                                 title          variety  \\\n",
      "345  Chambers Rosewood Vineyards NV Rare Muscat (Ru...           Muscat   \n",
      "346  Chambers Rosewood Vineyards NV Rare Muscadelle...       Muscadelle   \n",
      "348  Chambers Rosewood Vineyards NV Grand Muscat (R...           Muscat   \n",
      "349     Torbreck 2012 RunRig Shiraz-Viognier (Barossa)  Shiraz-Viognier   \n",
      "356  Jasper Hill 2013 Georgia's Paddock Shiraz (Hea...           Shiraz   \n",
      "360  Torbreck 2012 Descendant Shiraz-Viognier (Baro...  Shiraz-Viognier   \n",
      "365  Wakefield 2013 St. Andrews Single Vineyard Rel...           Shiraz   \n",
      "\n",
      "                          winery  \n",
      "345  Chambers Rosewood Vineyards  \n",
      "346  Chambers Rosewood Vineyards  \n",
      "348  Chambers Rosewood Vineyards  \n",
      "349                     Torbreck  \n",
      "356                  Jasper Hill  \n",
      "360                     Torbreck  \n",
      "365                    Wakefield  \n"
     ]
    }
   ],
   "source": [
    "top_oceania_wines = reviews[(reviews.points>=95) & (reviews.country.isin([\"Australia\",\"New Zealand\"]))]\n",
    "print(top_oceania_wines)"
   ]
  }
 ],
 "metadata": {
  "kaggle": {
   "accelerator": "none",
   "dataSources": [
    {
     "datasetId": 655,
     "sourceId": 1252,
     "sourceType": "datasetVersion"
    },
    {
     "datasetId": 2321,
     "sourceId": 3919,
     "sourceType": "datasetVersion"
    },
    {
     "datasetId": 2894,
     "sourceId": 4877,
     "sourceType": "datasetVersion"
    },
    {
     "datasetId": 3491,
     "sourceId": 5624,
     "sourceType": "datasetVersion"
    },
    {
     "datasetId": 1442,
     "sourceId": 8172,
     "sourceType": "datasetVersion"
    },
    {
     "datasetId": 9366,
     "sourceId": 13206,
     "sourceType": "datasetVersion"
    },
    {
     "datasetId": 179555,
     "sourceId": 403916,
     "sourceType": "datasetVersion"
    },
    {
     "datasetId": 4549,
     "sourceId": 466349,
     "sourceType": "datasetVersion"
    },
    {
     "datasetId": 2478,
     "sourceId": 1151655,
     "sourceType": "datasetVersion"
    },
    {
     "datasetId": 10128,
     "sourceId": 5438389,
     "sourceType": "datasetVersion"
    }
   ],
   "isGpuEnabled": false,
   "isInternetEnabled": false,
   "language": "python",
   "sourceType": "notebook"
  },
  "kernelspec": {
   "display_name": "venv",
   "language": "python",
   "name": "python3"
  },
  "language_info": {
   "codemirror_mode": {
    "name": "ipython",
    "version": 3
   },
   "file_extension": ".py",
   "mimetype": "text/x-python",
   "name": "python",
   "nbconvert_exporter": "python",
   "pygments_lexer": "ipython3",
   "version": "3.13.3"
  }
 },
 "nbformat": 4,
 "nbformat_minor": 4
}
