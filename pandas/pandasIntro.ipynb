{
 "cells": [
  {
   "cell_type": "markdown",
   "metadata": {},
   "source": [
    "# Exercises"
   ]
  },
  {
   "cell_type": "markdown",
   "metadata": {},
   "source": [
    "## 1.\n",
    "\n",
    "In the cell below, create a DataFrame `fruits` that looks like this:\n",
    "\n",
    "![](https://storage.googleapis.com/kaggle-media/learn/images/Ax3pp2A.png)"
   ]
  },
  {
   "cell_type": "code",
   "execution_count": 1,
   "metadata": {
    "execution": {
     "iopub.execute_input": "2025-06-08T18:03:49.046916Z",
     "iopub.status.busy": "2025-06-08T18:03:49.046324Z",
     "iopub.status.idle": "2025-06-08T18:03:49.083469Z",
     "shell.execute_reply": "2025-06-08T18:03:49.082108Z",
     "shell.execute_reply.started": "2025-06-08T18:03:49.046803Z"
    },
    "trusted": true
   },
   "outputs": [
    {
     "name": "stdout",
     "output_type": "stream",
     "text": [
      "   Apples  Bananas\n",
      "0      30       21\n"
     ]
    }
   ],
   "source": [
    "# Your code goes here. Create a dataframe matching the above diagram and assign it to the variable fruits.\n",
    "import pandas as pd\n",
    "\n",
    "fruits = pd.DataFrame({'Apples':[30],'Bananas':[21]})\n",
    "print(fruits)"
   ]
  },
  {
   "cell_type": "markdown",
   "metadata": {},
   "source": [
    "## 2.\n",
    "\n",
    "Create a dataframe `fruit_sales` that matches the diagram below:\n",
    "\n",
    "![](https://storage.googleapis.com/kaggle-media/learn/images/CHPn7ZF.png)"
   ]
  },
  {
   "cell_type": "code",
   "execution_count": 2,
   "metadata": {
    "execution": {
     "iopub.execute_input": "2025-06-08T18:05:40.827993Z",
     "iopub.status.busy": "2025-06-08T18:05:40.827514Z",
     "iopub.status.idle": "2025-06-08T18:05:40.843157Z",
     "shell.execute_reply": "2025-06-08T18:05:40.842141Z",
     "shell.execute_reply.started": "2025-06-08T18:05:40.827964Z"
    },
    "trusted": true
   },
   "outputs": [
    {
     "name": "stdout",
     "output_type": "stream",
     "text": [
      "            Apples  Bananas\n",
      "2017 Sales      35       21\n",
      "2018 Sales      41       34\n"
     ]
    }
   ],
   "source": [
    "fruit_sales = pd.DataFrame({\"Apples\":[35,41],\"Bananas\":[21,34]},index=[\"2017 Sales\",\"2018 Sales\"])\n",
    "print(fruit_sales)"
   ]
  },
  {
   "cell_type": "markdown",
   "metadata": {},
   "source": [
    "## 3.\n",
    "\n",
    "Create a variable `ingredients` with a Series that looks like:\n",
    "\n",
    "```\n",
    "Flour     4 cups\n",
    "Milk       1 cup\n",
    "Eggs     2 large\n",
    "Spam       1 can\n",
    "Name: Dinner, dtype: object\n",
    "```"
   ]
  },
  {
   "cell_type": "code",
   "execution_count": 3,
   "metadata": {
    "execution": {
     "iopub.execute_input": "2025-06-08T18:08:59.150128Z",
     "iopub.status.busy": "2025-06-08T18:08:59.149272Z",
     "iopub.status.idle": "2025-06-08T18:08:59.165266Z",
     "shell.execute_reply": "2025-06-08T18:08:59.164331Z",
     "shell.execute_reply.started": "2025-06-08T18:08:59.150083Z"
    },
    "trusted": true
   },
   "outputs": [
    {
     "name": "stdout",
     "output_type": "stream",
     "text": [
      "Flour     4 cups\n",
      "Milk       1 cup\n",
      "Eggs     2 large\n",
      "Spam       1 can\n",
      "Name: Dinner, dtype: object\n"
     ]
    }
   ],
   "source": [
    "ingredients = pd.Series([\"4 cups\",\"1 cup\", \"2 large\",\"1 can\"],index=[\"Flour\",\"Milk\",\"Eggs\",\"Spam\"],name=\"Dinner\")\n",
    "print(ingredients)"
   ]
  },
  {
   "cell_type": "markdown",
   "metadata": {},
   "source": [
    "## 4.\n",
    "\n",
    "Read the csv dataset of wine reviews into a DataFrame called `reviews`:\n"
   ]
  },
  {
   "cell_type": "code",
   "execution_count": 4,
   "metadata": {
    "execution": {
     "iopub.execute_input": "2025-06-08T18:10:28.802458Z",
     "iopub.status.busy": "2025-06-08T18:10:28.801624Z",
     "iopub.status.idle": "2025-06-08T18:10:29.830653Z",
     "shell.execute_reply": "2025-06-08T18:10:29.829708Z",
     "shell.execute_reply.started": "2025-06-08T18:10:28.802426Z"
    },
    "trusted": true
   },
   "outputs": [
    {
     "name": "stdout",
     "output_type": "stream",
     "text": [
      "       country                                        description  \\\n",
      "0        Italy  Aromas include tropical fruit, broom, brimston...   \n",
      "1     Portugal  This is ripe and fruity, a wine that is smooth...   \n",
      "2           US  Tart and snappy, the flavors of lime flesh and...   \n",
      "3           US  Pineapple rind, lemon pith and orange blossom ...   \n",
      "4           US  Much like the regular bottling from 2012, this...   \n",
      "...        ...                                                ...   \n",
      "1994        US  Lemon curd and artificial butter show on the n...   \n",
      "1995        US  This full-throttle, oaky Chardonnay features a...   \n",
      "1996        US  Despite its single-vineyard designation, this ...   \n",
      "1997     Italy  Fruity aromas that recall blueberry and pomegr...   \n",
      "1998    France  Towards the dry end of the Pinot Gris spectrum...   \n",
      "\n",
      "                             designation  points  price           province  \\\n",
      "0                           Vulkà Bianco      87    NaN  Sicily & Sardinia   \n",
      "1                               Avidagos      87   15.0              Douro   \n",
      "2                                    NaN      87   14.0             Oregon   \n",
      "3                   Reserve Late Harvest      87   13.0           Michigan   \n",
      "4     Vintner's Reserve Wild Child Block      87   65.0             Oregon   \n",
      "...                                  ...     ...    ...                ...   \n",
      "1994                    Church Creek Oak      84   18.0           Virginia   \n",
      "1995                                 NaN      84   20.0         California   \n",
      "1996                  Guadalupe Vineyard      84   25.0             Oregon   \n",
      "1997                                 NaN      84   11.0  Sicily & Sardinia   \n",
      "1998                Réserve Particulière      84   15.0             Alsace   \n",
      "\n",
      "                      region_1           region_2         taster_name  \\\n",
      "0                         Etna                NaN       Kerin O’Keefe   \n",
      "1                          NaN                NaN          Roger Voss   \n",
      "2            Willamette Valley  Willamette Valley        Paul Gregutt   \n",
      "3          Lake Michigan Shore                NaN  Alexander Peartree   \n",
      "4            Willamette Valley  Willamette Valley        Paul Gregutt   \n",
      "...                        ...                ...                 ...   \n",
      "1994  Virginia's Eastern Shore                NaN  Alexander Peartree   \n",
      "1995      Russian River Valley             Sonoma      Virginie Boone   \n",
      "1996         Willamette Valley  Willamette Valley        Paul Gregutt   \n",
      "1997           Terre Siciliane                NaN       Kerin O’Keefe   \n",
      "1998                    Alsace                NaN          Roger Voss   \n",
      "\n",
      "     taster_twitter_handle                                              title  \\\n",
      "0             @kerinokeefe                  Nicosia 2013 Vulkà Bianco  (Etna)   \n",
      "1               @vossroger      Quinta dos Avidagos 2011 Avidagos Red (Douro)   \n",
      "2              @paulgwine       Rainstorm 2013 Pinot Gris (Willamette Valley)   \n",
      "3                      NaN  St. Julian 2013 Reserve Late Harvest Riesling ...   \n",
      "4              @paulgwine   Sweet Cheeks 2012 Vintner's Reserve Wild Child...   \n",
      "...                    ...                                                ...   \n",
      "1994                   NaN  Chatham 2012 Church Creek Oak Chardonnay (Virg...   \n",
      "1995               @vboone     McIlroy 2013 Chardonnay (Russian River Valley)   \n",
      "1996           @paulgwine   Wildewood 2013 Guadalupe Vineyard Pinot Noir (...   \n",
      "1997          @kerinokeefe  Vino dei Fratelli 2013 Nero d'Avola (Terre Sic...   \n",
      "1998            @vossroger  Cave de Beblenheim 2013 Réserve Particulière P...   \n",
      "\n",
      "             variety               winery  \n",
      "0        White Blend              Nicosia  \n",
      "1     Portuguese Red  Quinta dos Avidagos  \n",
      "2         Pinot Gris            Rainstorm  \n",
      "3           Riesling           St. Julian  \n",
      "4         Pinot Noir         Sweet Cheeks  \n",
      "...              ...                  ...  \n",
      "1994      Chardonnay              Chatham  \n",
      "1995      Chardonnay              McIlroy  \n",
      "1996      Pinot Noir            Wildewood  \n",
      "1997    Nero d'Avola    Vino dei Fratelli  \n",
      "1998      Pinot Gris   Cave de Beblenheim  \n",
      "\n",
      "[1999 rows x 13 columns]\n"
     ]
    }
   ],
   "source": [
    "reviews = pd.read_csv(\"./winemag-data.csv\",index_col=0)\n",
    "print(reviews)"
   ]
  },
  {
   "cell_type": "markdown",
   "metadata": {},
   "source": [
    "## 5.\n",
    "\n",
    "Run the cell below to create and display a DataFrame called `animals`:"
   ]
  },
  {
   "cell_type": "code",
   "execution_count": 5,
   "metadata": {
    "execution": {
     "iopub.execute_input": "2025-06-08T18:11:31.157001Z",
     "iopub.status.busy": "2025-06-08T18:11:31.156629Z",
     "iopub.status.idle": "2025-06-08T18:11:31.168422Z",
     "shell.execute_reply": "2025-06-08T18:11:31.167468Z",
     "shell.execute_reply.started": "2025-06-08T18:11:31.156975Z"
    },
    "trusted": true
   },
   "outputs": [
    {
     "data": {
      "application/vnd.microsoft.datawrangler.viewer.v0+json": {
       "columns": [
        {
         "name": "index",
         "rawType": "object",
         "type": "string"
        },
        {
         "name": "Cows",
         "rawType": "int64",
         "type": "integer"
        },
        {
         "name": "Goats",
         "rawType": "int64",
         "type": "integer"
        }
       ],
       "ref": "ded23473-62e2-46d8-8e2f-e33afb284028",
       "rows": [
        [
         "Year 1",
         "12",
         "22"
        ],
        [
         "Year 2",
         "20",
         "19"
        ]
       ],
       "shape": {
        "columns": 2,
        "rows": 2
       }
      },
      "text/html": [
       "<div>\n",
       "<style scoped>\n",
       "    .dataframe tbody tr th:only-of-type {\n",
       "        vertical-align: middle;\n",
       "    }\n",
       "\n",
       "    .dataframe tbody tr th {\n",
       "        vertical-align: top;\n",
       "    }\n",
       "\n",
       "    .dataframe thead th {\n",
       "        text-align: right;\n",
       "    }\n",
       "</style>\n",
       "<table border=\"1\" class=\"dataframe\">\n",
       "  <thead>\n",
       "    <tr style=\"text-align: right;\">\n",
       "      <th></th>\n",
       "      <th>Cows</th>\n",
       "      <th>Goats</th>\n",
       "    </tr>\n",
       "  </thead>\n",
       "  <tbody>\n",
       "    <tr>\n",
       "      <th>Year 1</th>\n",
       "      <td>12</td>\n",
       "      <td>22</td>\n",
       "    </tr>\n",
       "    <tr>\n",
       "      <th>Year 2</th>\n",
       "      <td>20</td>\n",
       "      <td>19</td>\n",
       "    </tr>\n",
       "  </tbody>\n",
       "</table>\n",
       "</div>"
      ],
      "text/plain": [
       "        Cows  Goats\n",
       "Year 1    12     22\n",
       "Year 2    20     19"
      ]
     },
     "execution_count": 5,
     "metadata": {},
     "output_type": "execute_result"
    }
   ],
   "source": [
    "animals = pd.DataFrame({'Cows': [12, 20], 'Goats': [22, 19]}, index=['Year 1', 'Year 2'])\n",
    "animals"
   ]
  },
  {
   "cell_type": "markdown",
   "metadata": {},
   "source": [
    "In the cell below, write code to save this DataFrame to disk as a csv file with the name `cows_and_goats.csv`."
   ]
  },
  {
   "cell_type": "code",
   "execution_count": 6,
   "metadata": {
    "execution": {
     "iopub.execute_input": "2025-06-08T18:12:29.430043Z",
     "iopub.status.busy": "2025-06-08T18:12:29.429604Z",
     "iopub.status.idle": "2025-06-08T18:12:29.447580Z",
     "shell.execute_reply": "2025-06-08T18:12:29.446625Z",
     "shell.execute_reply.started": "2025-06-08T18:12:29.430016Z"
    },
    "trusted": true
   },
   "outputs": [],
   "source": [
    "animals.to_csv(\"cows_and_goats.csv\")"
   ]
  }
 ],
 "metadata": {
  "kaggle": {
   "accelerator": "none",
   "dataSources": [
    {
     "datasetId": 655,
     "sourceId": 1252,
     "sourceType": "datasetVersion"
    },
    {
     "datasetId": 2321,
     "sourceId": 3919,
     "sourceType": "datasetVersion"
    },
    {
     "datasetId": 2894,
     "sourceId": 4877,
     "sourceType": "datasetVersion"
    },
    {
     "datasetId": 3491,
     "sourceId": 5624,
     "sourceType": "datasetVersion"
    },
    {
     "datasetId": 1442,
     "sourceId": 8172,
     "sourceType": "datasetVersion"
    },
    {
     "datasetId": 9366,
     "sourceId": 13206,
     "sourceType": "datasetVersion"
    },
    {
     "datasetId": 179555,
     "sourceId": 403916,
     "sourceType": "datasetVersion"
    },
    {
     "datasetId": 4549,
     "sourceId": 466349,
     "sourceType": "datasetVersion"
    },
    {
     "datasetId": 2478,
     "sourceId": 1151655,
     "sourceType": "datasetVersion"
    },
    {
     "datasetId": 10128,
     "sourceId": 5438389,
     "sourceType": "datasetVersion"
    }
   ],
   "isGpuEnabled": false,
   "isInternetEnabled": false,
   "language": "python",
   "sourceType": "notebook"
  },
  "kernelspec": {
   "display_name": "venv",
   "language": "python",
   "name": "python3"
  },
  "language_info": {
   "codemirror_mode": {
    "name": "ipython",
    "version": 3
   },
   "file_extension": ".py",
   "mimetype": "text/x-python",
   "name": "python",
   "nbconvert_exporter": "python",
   "pygments_lexer": "ipython3",
   "version": "3.13.3"
  }
 },
 "nbformat": 4,
 "nbformat_minor": 4
}
