{
 "cells": [
  {
   "cell_type": "markdown",
   "id": "a02a2c16",
   "metadata": {},
   "source": [
    "## Numpy start"
   ]
  },
  {
   "cell_type": "code",
   "execution_count": null,
   "id": "b3f8ab6c",
   "metadata": {},
   "outputs": [
    {
     "name": "stdout",
     "output_type": "stream",
     "text": [
      "[1 2 3 4 5 6]\n"
     ]
    }
   ],
   "source": [
    "import numpy as np\n",
    "\n",
    "arr=np.array([1,2,3,4,5,6])\n",
    "print(arr)"
   ]
  },
  {
   "cell_type": "code",
   "execution_count": null,
   "id": "ac13d459",
   "metadata": {},
   "outputs": [
    {
     "name": "stdout",
     "output_type": "stream",
     "text": [
      "[0 1 2 3 4 5 6 7 8 9]\n",
      "[[0 1 2 3 4]\n",
      " [5 6 7 8 9]]\n",
      "[ 0  5 10 15 20 25 30 35 40 45]\n",
      "\n",
      " [[1 2 3]\n",
      " [4 5 6]]\n"
     ]
    }
   ],
   "source": [
    "arr=np.arange(10)\n",
    "\n",
    "print(arr)\n",
    "print(arr.reshape(2,5))\n",
    "print(arr*5)\n",
    "\n",
    "arr2=np.array([[1,2,3],[4,5,6]])\n",
    "print(\"\\n\",arr2)"
   ]
  },
  {
   "cell_type": "code",
   "execution_count": 21,
   "id": "b745f2e7",
   "metadata": {},
   "outputs": [
    {
     "name": "stdout",
     "output_type": "stream",
     "text": [
      "[[0. 0. 0.]\n",
      " [0. 0. 0.]]\n",
      "[[1. 1.]\n",
      " [1. 1.]\n",
      " [1. 1.]]\n",
      "[[9 9]\n",
      " [9 9]\n",
      " [9 9]\n",
      " [9 9]\n",
      " [9 9]]\n"
     ]
    }
   ],
   "source": [
    "zeroes=np.zeros((2,3))\n",
    "ones=np.ones((3,2))\n",
    "full=np.full((5,2),9)\n",
    "\n",
    "print(zeroes)\n",
    "print(ones)\n",
    "print(full)"
   ]
  },
  {
   "cell_type": "markdown",
   "id": "80ba5cfc",
   "metadata": {},
   "source": [
    "## Array Properties"
   ]
  },
  {
   "cell_type": "code",
   "execution_count": null,
   "id": "f0784424",
   "metadata": {},
   "outputs": [
    {
     "name": "stdout",
     "output_type": "stream",
     "text": [
      "2\n",
      "(2, 3)\n",
      "6\n",
      "int64\n"
     ]
    }
   ],
   "source": [
    "arr=np.array([[1,2,3],[4,5,6]])\n",
    "print(arr.ndim)\n",
    "print(arr.shape)\n",
    "print(arr.size)\n",
    "print(arr.dtype)"
   ]
  },
  {
   "cell_type": "markdown",
   "id": "79a9b143",
   "metadata": {},
   "source": [
    "reshape, ravel, flatten, transpose"
   ]
  },
  {
   "cell_type": "code",
   "execution_count": null,
   "id": "2d837947",
   "metadata": {},
   "outputs": [
    {
     "name": "stdout",
     "output_type": "stream",
     "text": [
      "[[1 2]\n",
      " [3 4]\n",
      " [5 6]]\n",
      "[1 2 3 4 5 6]\n",
      "[1 2 3 4 5 6]\n",
      "[[1 3 5]\n",
      " [2 4 6]]\n",
      "[[1 2]\n",
      " [3 4]\n",
      " [5 6]]\n"
     ]
    }
   ],
   "source": [
    "arr=arr.reshape(3,2) # reassinging a reshaped copy to og\n",
    "print(arr)\n",
    "print(arr.flatten()) #returns copy\n",
    "print(arr.ravel()) #returns view of og\n",
    "print(arr.T) #transpose"
   ]
  }
 ],
 "metadata": {
  "kernelspec": {
   "display_name": "venv",
   "language": "python",
   "name": "python3"
  },
  "language_info": {
   "codemirror_mode": {
    "name": "ipython",
    "version": 3
   },
   "file_extension": ".py",
   "mimetype": "text/x-python",
   "name": "python",
   "nbconvert_exporter": "python",
   "pygments_lexer": "ipython3",
   "version": "3.13.3"
  }
 },
 "nbformat": 4,
 "nbformat_minor": 5
}
