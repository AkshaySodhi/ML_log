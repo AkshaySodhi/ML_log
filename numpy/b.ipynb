{
 "cells": [
  {
   "cell_type": "markdown",
   "id": "0139b49b",
   "metadata": {},
   "source": [
    "## Selection"
   ]
  },
  {
   "cell_type": "code",
   "execution_count": 8,
   "id": "5439e9fa",
   "metadata": {},
   "outputs": [],
   "source": [
    "import numpy as np"
   ]
  },
  {
   "cell_type": "code",
   "execution_count": null,
   "id": "fa89ec4a",
   "metadata": {},
   "outputs": [
    {
     "name": "stdout",
     "output_type": "stream",
     "text": [
      "5\n",
      "5\n",
      "[4 5 6]\n",
      "[2 5]\n"
     ]
    }
   ],
   "source": [
    "list=[[1,2,3],[4,5,6]]\n",
    "print(list[1][1])\n",
    "\n",
    "arr=np.arange(1,7).reshape(2,3)\n",
    "print(arr[1,1]) #acessing supports [1,1] as well\n",
    "\n",
    "print(arr[1]) #full row\n",
    "print(arr[:,1]) # full col"
   ]
  },
  {
   "cell_type": "markdown",
   "id": "a8626830",
   "metadata": {},
   "source": [
    "## Sorting"
   ]
  },
  {
   "cell_type": "code",
   "execution_count": null,
   "id": "ca555b2c",
   "metadata": {},
   "outputs": [
    {
     "name": "stdout",
     "output_type": "stream",
     "text": [
      "[ 1  2  4  6  7  9 10] \n",
      "\n",
      "[[2 1]\n",
      " [3 4]\n",
      " [6 5]] \n",
      "\n",
      "[[1 3]\n",
      " [2 5]\n",
      " [4 6]]\n"
     ]
    }
   ],
   "source": [
    "arr=np.array([4,1,6,7,2,9,10])\n",
    "print(np.sort(arr),\"\\n\")\n",
    "\n",
    "arr_2d=np.array([[3,1],[2,5],[6,4]])\n",
    "print(np.sort(arr_2d,axis=0),\"\\n\") #axis=0 (makes each colsorted)\n",
    "print(np.sort(arr_2d,axis=1)) #axis=1 (makes reach row sorted)\n",
    "# print(np.sort(arr_2d,axis=2)) # error"
   ]
  },
  {
   "cell_type": "markdown",
   "id": "06e28011",
   "metadata": {},
   "source": [
    "## Filter + filter with mask"
   ]
  },
  {
   "cell_type": "code",
   "execution_count": 42,
   "id": "30502ef8",
   "metadata": {},
   "outputs": [
    {
     "name": "stdout",
     "output_type": "stream",
     "text": [
      "[ 1  2  3  4  5  6  7  8  9 10]\n",
      "[ 2  4  6  8 10] \n",
      "\n",
      "[False False False False False  True  True  True  True  True]\n",
      "[ 6  7  8  9 10] \n",
      "\n"
     ]
    }
   ],
   "source": [
    "arr=np.arange(1,11)\n",
    "print(arr)\n",
    "print(arr[arr%2==0],\"\\n\")\n",
    "\n",
    "mask=arr>5 # making a mask\n",
    "print(mask)\n",
    "print(arr[mask],\"\\n\")\n"
   ]
  },
  {
   "cell_type": "markdown",
   "id": "3f616c95",
   "metadata": {},
   "source": [
    "# np.where() + access with indices"
   ]
  },
  {
   "cell_type": "code",
   "execution_count": null,
   "id": "17f250d5",
   "metadata": {},
   "outputs": [
    {
     "name": "stdout",
     "output_type": "stream",
     "text": [
      "[2 4 6]\n",
      "(array([5, 6, 7, 8, 9]),)\n",
      "[ 6  7  8  9 10]\n"
     ]
    }
   ],
   "source": [
    "indices=[1,3,5]\n",
    "print(arr[indices])\n",
    "\n",
    "where_res=np.where(arr>5) #returns indices of the \"arr\" where val>5\n",
    "print(where_res)\n",
    "print(arr[where_res]) "
   ]
  },
  {
   "cell_type": "markdown",
   "id": "312fe819",
   "metadata": {},
   "source": [
    "make conditions arrays form np.where"
   ]
  },
  {
   "cell_type": "code",
   "execution_count": 48,
   "id": "093882b8",
   "metadata": {},
   "outputs": [
    {
     "name": "stdout",
     "output_type": "stream",
     "text": [
      "[ 1  2  3  4  5 30 35 40 45 50]\n"
     ]
    }
   ],
   "source": [
    "condition_array=np.where(arr>5,arr*5,arr) # makes an array where when val>5 in array it does it *4, else keeps it the same\n",
    "print(condition_array)"
   ]
  },
  {
   "cell_type": "markdown",
   "id": "e80dfa3b",
   "metadata": {},
   "source": [
    "# Add data"
   ]
  },
  {
   "cell_type": "code",
   "execution_count": null,
   "id": "9a1b8912",
   "metadata": {},
   "outputs": [
    {
     "name": "stdout",
     "output_type": "stream",
     "text": [
      "[5 7 9]\n",
      "[1 2 3 4 5 6] \n",
      "\n",
      "[[1 2 3]\n",
      " [4 5 6]\n",
      " [7 8 9]] \n",
      "\n",
      "[[1 2 3 9]\n",
      " [4 5 6 0]]\n"
     ]
    }
   ],
   "source": [
    "a=np.array([1,2,3])\n",
    "b=np.array([4,5,6])\n",
    "\n",
    "print(a+b) #elem wise is def in numpy\n",
    "print(np.concat((a,b)),\"\\n\") # concats np arrays, same as python list +\n",
    "\n",
    "arr=np.array([[1,2,3],[4,5,6]])\n",
    "new_row=np.array([7,8,9])\n",
    "\n",
    "arr_with_nrow=np.vstack((arr,new_row)) # adds new row \n",
    "print(arr_with_nrow,\"\\n\") \n",
    "\n",
    "new_col=np.array([[9],[0]])\n",
    "arr_with_ncol=np.hstack((arr,new_col)) # adds new col\n",
    "print(arr_with_ncol)\n",
    "\n"
   ]
  },
  {
   "cell_type": "markdown",
   "id": "97e6d422",
   "metadata": {},
   "source": [
    "# Array compatibilty"
   ]
  },
  {
   "cell_type": "code",
   "execution_count": 58,
   "id": "67964bdc",
   "metadata": {},
   "outputs": [
    {
     "name": "stdout",
     "output_type": "stream",
     "text": [
      "False\n"
     ]
    }
   ],
   "source": [
    "arr1=np.array([1,2,3])\n",
    "arr2=np.array([1,2])\n",
    "print(arr1.shape==arr2.shape)"
   ]
  },
  {
   "cell_type": "markdown",
   "id": "7f50ab24",
   "metadata": {},
   "source": [
    "# Delete data"
   ]
  },
  {
   "cell_type": "code",
   "execution_count": null,
   "id": "9605bf1b",
   "metadata": {},
   "outputs": [
    {
     "name": "stdout",
     "output_type": "stream",
     "text": [
      "[0 1 2 4 5 6]\n"
     ]
    }
   ],
   "source": [
    "arr=np.arange(7)\n",
    "arr_after_del=np.delete(arr,3) #removes index=3 val\n",
    "print(arr_after_del)"
   ]
  }
 ],
 "metadata": {
  "kernelspec": {
   "display_name": "venv",
   "language": "python",
   "name": "python3"
  },
  "language_info": {
   "codemirror_mode": {
    "name": "ipython",
    "version": 3
   },
   "file_extension": ".py",
   "mimetype": "text/x-python",
   "name": "python",
   "nbconvert_exporter": "python",
   "pygments_lexer": "ipython3",
   "version": "3.13.3"
  }
 },
 "nbformat": 4,
 "nbformat_minor": 5
}
